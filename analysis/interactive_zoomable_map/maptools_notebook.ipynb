{
 "cells": [
  {
   "cell_type": "markdown",
   "id": "1cd7d129",
   "metadata": {},
   "source": [
    "# Interactive Maps\n",
    "\n",
    "`import config` is not required, but I've included it by default in case you've set up your defaults in `config.py`."
   ]
  },
  {
   "cell_type": "code",
   "execution_count": null,
   "id": "7a241d1e",
   "metadata": {},
   "outputs": [],
   "source": [
    "### Imports ###\n",
    "import config # convenient if you have defaults set up in config.py, but not required\n",
    "import maptools\n",
    "import pandas as pd"
   ]
  },
  {
   "cell_type": "code",
   "execution_count": null,
   "id": "fc1ca52f",
   "metadata": {},
   "outputs": [],
   "source": [
    "# Read original data from csv.\n",
    "df = pd.read_csv(config.df_origin)"
   ]
  },
  {
   "cell_type": "markdown",
   "id": "ff223b97",
   "metadata": {},
   "source": [
    "`Geolocator` and its `get_coords` function support a few arguments that can directly configure their behavior. Some examples:\n",
    "\n",
    "If your dataframe's address column contained street addresses in Columbus, Ohio (e.g. \"1 Capitol Square\"), you could set `state_zip = Columbus, OH` or `state_zip = Columbus, OH 43215`.\n",
    "\n",
    "If you dataframe's addresses are found in the column `df['address']`, you can set `address_colname = \"address\"`.\n",
    "\n",
    "For more information, take a look at the documentation of `Geolocator`, found in `maptools/geocode.py`.\n",
    "\n",
    "*Basic geolocation code is below:*"
   ]
  },
  {
   "cell_type": "code",
   "execution_count": null,
   "id": "4e90e8f7",
   "metadata": {},
   "outputs": [],
   "source": [
    "# Geolocate addresses from address column. Writes augmented csv to outf.\n",
    "g = maptools.Geolocator(state_zip = config.state_zip, user_agent_name = config.user_agent_name)\n",
    "g.get_coords(df, address_colname = config.address_colname, outf = config.appended_df_filename)"
   ]
  },
  {
   "cell_type": "markdown",
   "id": "0f83badc",
   "metadata": {},
   "source": [
    "`MapWriter` supports some arguments that directly configure its behavior. Some examples:\n",
    "\n",
    "If you want to generate HTML selectors to filter your map based on some columns (e.g. year and day of week) of your dataframe, set `selector_data` to a dictionary of column name : default option. For example, to filter by the columns `df['year']` and `df['day_of_week']`, you could set `selector_data = {\"year\": \"All years\", \"day_of_week\": \"All days\"}`. The selectors will automatically be populated with a list of all of the values those columns take on in your dataframe.\n",
    "\n",
    "If you want to center your map on the Ohio State House, you could set `coords = [39.961, -82.999]` (the latitude and longitude of the Ohio State House).\n",
    "\n",
    "For more information, take a look at the documentation of `MapWriter`, found in `maptools/interactive_map.py`.\n",
    "\n",
    "*Basic map creation code is below:*"
   ]
  },
  {
   "cell_type": "code",
   "execution_count": null,
   "id": "76fc9255",
   "metadata": {},
   "outputs": [],
   "source": [
    "# Read geolocation data and generate interactive filterable map.\n",
    "df = g.read_coords()\n",
    "mw = maptools.MapWriter(df_origin = config.df_origin,\n",
    "                        target_path = config.target_path,\n",
    "                        selector_data = config.selector_data,\n",
    "                        coords = config.coords,\n",
    "                        init_zoom = config.init_zoom,\n",
    "                        latitude_colname = config.latitude_colname,\n",
    "                        longitude_colname = config.longitude_colname,\n",
    "                        primary_data_path = config.primary_data_path)\n",
    "mw.write_template_to_html()"
   ]
  }
 ],
 "metadata": {
  "kernelspec": {
   "display_name": "Python 3 (ipykernel)",
   "language": "python",
   "name": "python3"
  },
  "language_info": {
   "codemirror_mode": {
    "name": "ipython",
    "version": 3
   },
   "file_extension": ".py",
   "mimetype": "text/x-python",
   "name": "python",
   "nbconvert_exporter": "python",
   "pygments_lexer": "ipython3",
   "version": "3.7.13"
  }
 },
 "nbformat": 4,
 "nbformat_minor": 5
}
